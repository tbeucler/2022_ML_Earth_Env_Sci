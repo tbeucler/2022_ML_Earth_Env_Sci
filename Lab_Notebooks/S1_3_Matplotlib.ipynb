{
  "nbformat": 4,
  "nbformat_minor": 0,
  "metadata": {
    "colab": {
      "name": "S1_3_Matplotlib.ipynb",
      "provenance": [],
      "collapsed_sections": [],
      "include_colab_link": true
    },
    "kernelspec": {
      "name": "python3",
      "display_name": "Python 3"
    },
    "language_info": {
      "name": "python"
    }
  },
  "cells": [
    {
      "cell_type": "markdown",
      "metadata": {
        "id": "view-in-github",
        "colab_type": "text"
      },
      "source": [
        "<a href=\"https://colab.research.google.com/github/tbeucler/2022_ML_Earth_Env_Sci/blob/main/Lab_Notebooks/S1_3_Matplotlib.ipynb\" target=\"_parent\"><img src=\"https://colab.research.google.com/assets/colab-badge.svg\" alt=\"Open In Colab\"/></a>"
      ]
    },
    {
      "cell_type": "markdown",
      "source": [
        "![images.png](data:image/png;base64,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)"
      ],
      "metadata": {
        "id": "tQBsE9xR84nU"
      }
    },
    {
      "cell_type": "markdown",
      "source": [
        "**Matlotlib**: Matplotlib is a comprehensive library for creating static, animated, and interactive visualizations in Python.\n",
        "\n",
        "Website: https://matplotlib.org/\n",
        "\n",
        "GitHub: https://github.com/matplotlib/matplotlib"
      ],
      "metadata": {
        "id": "8fCeiNsh9RrA"
      }
    },
    {
      "cell_type": "markdown",
      "source": [
        "In the previous notebook, we saw some basic examples of plotting and visualization in the context of learning `numpy`. In this notebook, we dive much deeper. The goal is to understand how `matplotlib` represents figures internally."
      ],
      "metadata": {
        "id": "Yf_-CO_E9aY1"
      }
    },
    {
      "cell_type": "code",
      "source": [
        "from matplotlib import pyplot as plt\n",
        "%matplotlib inline"
      ],
      "metadata": {
        "id": "WvuaoWkI9mx8"
      },
      "execution_count": null,
      "outputs": []
    },
    {
      "cell_type": "markdown",
      "source": [
        "# Figure and Axes"
      ],
      "metadata": {
        "id": "KYc3pOhz-ErY"
      }
    },
    {
      "cell_type": "markdown",
      "source": [
        "The *figure* is the highest level of organization of `matplotlib` objects. If we want, we can create a figure explicitly."
      ],
      "metadata": {
        "id": "vrp7PcbL-H50"
      }
    },
    {
      "cell_type": "code",
      "source": [
        "fig = plt.figure()"
      ],
      "metadata": {
        "id": "9pMCfXTY-Mvw"
      },
      "execution_count": null,
      "outputs": []
    },
    {
      "cell_type": "code",
      "source": [
        "fig = plt.figure(figsize=(13, 5))"
      ],
      "metadata": {
        "id": "u82EIE-E-OvK"
      },
      "execution_count": null,
      "outputs": []
    },
    {
      "cell_type": "code",
      "source": [
        "fig = plt.figure()\n",
        "ax = fig.add_axes([0, 0, 1, 1])"
      ],
      "metadata": {
        "id": "vwqRRBI1-QrJ"
      },
      "execution_count": null,
      "outputs": []
    },
    {
      "cell_type": "code",
      "source": [
        "fig = plt.figure()\n",
        "ax = fig.add_axes([0, 0, 0.5, 1])"
      ],
      "metadata": {
        "id": "ins7QM20-SC2"
      },
      "execution_count": null,
      "outputs": []
    },
    {
      "cell_type": "code",
      "source": [
        "fig = plt.figure()\n",
        "ax1 = fig.add_axes([0, 0, 0.5, 1])\n",
        "ax2 = fig.add_axes([0.6, 0, 0.3, 0.5], facecolor='g')"
      ],
      "metadata": {
        "id": "Ke2Fm8-P-TPu"
      },
      "execution_count": null,
      "outputs": []
    },
    {
      "cell_type": "markdown",
      "source": [
        "# Subplots"
      ],
      "metadata": {
        "id": "_eKfgYpz-Um6"
      }
    },
    {
      "cell_type": "markdown",
      "source": [
        "Subplot syntax is one way to specify the creation of multiple axes."
      ],
      "metadata": {
        "id": "COwFSlVc-XPi"
      }
    },
    {
      "cell_type": "code",
      "source": [
        "fig = plt.figure()\n",
        "axes = fig.subplots(nrows=2, ncols=3)"
      ],
      "metadata": {
        "id": "zbtcaA1p-ZGh"
      },
      "execution_count": null,
      "outputs": []
    },
    {
      "cell_type": "code",
      "source": [
        "fig = plt.figure(figsize=(12, 6))\n",
        "axes = fig.subplots(nrows=2, ncols=3)"
      ],
      "metadata": {
        "id": "debyT7Nb-bRT"
      },
      "execution_count": null,
      "outputs": []
    },
    {
      "cell_type": "code",
      "source": [
        "axes"
      ],
      "metadata": {
        "id": "aVa_6k3D-c97"
      },
      "execution_count": null,
      "outputs": []
    },
    {
      "cell_type": "markdown",
      "source": [
        "There is a shorthand for doing this all at once, **which is our recommended way to create new figures!**"
      ],
      "metadata": {
        "id": "JvsJIBD5-fUe"
      }
    },
    {
      "cell_type": "code",
      "source": [
        "fig, ax = plt.subplots()"
      ],
      "metadata": {
        "id": "leqwFRq8-lIG"
      },
      "execution_count": null,
      "outputs": []
    },
    {
      "cell_type": "code",
      "source": [
        "ax"
      ],
      "metadata": {
        "id": "jBFhQnCL-mMZ"
      },
      "execution_count": null,
      "outputs": []
    },
    {
      "cell_type": "code",
      "source": [
        "fig, axes = plt.subplots(ncols=2, figsize=(8, 4), subplot_kw={'facecolor': 'g'})"
      ],
      "metadata": {
        "id": "Ru9jxtpv-nLx"
      },
      "execution_count": null,
      "outputs": []
    },
    {
      "cell_type": "code",
      "source": [
        "axes"
      ],
      "metadata": {
        "id": "ZnOgr6-c-oTD"
      },
      "execution_count": null,
      "outputs": []
    },
    {
      "cell_type": "markdown",
      "source": [
        "# Drawing into Axes"
      ],
      "metadata": {
        "id": "ww47eahY-p00"
      }
    },
    {
      "cell_type": "markdown",
      "source": [
        "All plots are drawn into axes. It is easiest to understand how matplotlib works if you use the [object-oriented](https://matplotlib.org/faq/usage_faq.html#coding-styles) style."
      ],
      "metadata": {
        "id": "IaxPtBEV-vjJ"
      }
    },
    {
      "cell_type": "code",
      "source": [
        "# create some data to plot\n",
        "import numpy as np\n",
        "x = np.linspace(-np.pi, np.pi, 100)\n",
        "y = np.cos(x)\n",
        "z = np.sin(6*x)"
      ],
      "metadata": {
        "id": "o69-scnM-2c0"
      },
      "execution_count": null,
      "outputs": []
    },
    {
      "cell_type": "code",
      "source": [
        "fig, ax = plt.subplots()\n",
        "ax.plot(x, y)"
      ],
      "metadata": {
        "id": "2TlO3ez8-3iO"
      },
      "execution_count": null,
      "outputs": []
    },
    {
      "cell_type": "markdown",
      "source": [
        "This does the same thing as"
      ],
      "metadata": {
        "id": "W8niztEE-4c1"
      }
    },
    {
      "cell_type": "code",
      "source": [
        "plt.plot(x, y)"
      ],
      "metadata": {
        "id": "6_PiJJ5v-6Cu"
      },
      "execution_count": null,
      "outputs": []
    },
    {
      "cell_type": "markdown",
      "source": [
        "This starts to matter when we have multiple axes to worry about."
      ],
      "metadata": {
        "id": "72cBW5zI-7DT"
      }
    },
    {
      "cell_type": "code",
      "source": [
        "fig, axes = plt.subplots(figsize=(8, 4), ncols=2)\n",
        "ax0, ax1 = axes\n",
        "ax0.plot(x, y)\n",
        "ax1.plot(x, z)"
      ],
      "metadata": {
        "id": "Yj6-MQXx--Az"
      },
      "execution_count": null,
      "outputs": []
    },
    {
      "cell_type": "markdown",
      "source": [
        "# Labeling Plots"
      ],
      "metadata": {
        "id": "bffn6A4d_AC_"
      }
    },
    {
      "cell_type": "code",
      "source": [
        "fig, axes = plt.subplots(figsize=(8, 4), ncols=2)\n",
        "ax0, ax1 = axes\n",
        "\n",
        "ax0.plot(x, y)\n",
        "ax0.set_xlabel('x')\n",
        "ax0.set_ylabel('y')\n",
        "ax0.set_title('x vs. y')\n",
        "\n",
        "ax1.plot(x, z)\n",
        "ax1.set_xlabel('x')\n",
        "ax1.set_ylabel('z')\n",
        "ax1.set_title('x vs. z')\n",
        "\n",
        "# squeeze everything in\n",
        "plt.tight_layout()"
      ],
      "metadata": {
        "id": "UtEOJgF9_X-S"
      },
      "execution_count": null,
      "outputs": []
    },
    {
      "cell_type": "markdown",
      "source": [
        "# Customizing Line Plots"
      ],
      "metadata": {
        "id": "nA-wuIkK_ZO4"
      }
    },
    {
      "cell_type": "code",
      "source": [
        "fig, ax = plt.subplots()\n",
        "ax.plot(x, y, x, z)"
      ],
      "metadata": {
        "id": "dLRKZzc1_c5R"
      },
      "execution_count": null,
      "outputs": []
    },
    {
      "cell_type": "markdown",
      "source": [
        "It’s simple to switch axes"
      ],
      "metadata": {
        "id": "MQjBbkbf_eb4"
      }
    },
    {
      "cell_type": "code",
      "source": [
        "fig, ax = plt.subplots()\n",
        "ax.plot(y, x, z, x)"
      ],
      "metadata": {
        "id": "aMMPWA1k_fqp"
      },
      "execution_count": null,
      "outputs": []
    },
    {
      "cell_type": "markdown",
      "source": [
        "A “parametric” graph:"
      ],
      "metadata": {
        "id": "sj1W_mNh_hvJ"
      }
    },
    {
      "cell_type": "code",
      "source": [
        "fig, ax = plt.subplots()\n",
        "ax.plot(y, z)"
      ],
      "metadata": {
        "id": "TZHLioX-_jxR"
      },
      "execution_count": null,
      "outputs": []
    },
    {
      "cell_type": "markdown",
      "source": [
        "## Line Styles"
      ],
      "metadata": {
        "id": "EA1x8LC3_lFq"
      }
    },
    {
      "cell_type": "code",
      "source": [
        "fig, axes = plt.subplots(figsize=(16, 5), ncols=3)\n",
        "axes[0].plot(x, y, linestyle='dashed')\n",
        "axes[0].plot(x, z, linestyle='--')\n",
        "\n",
        "axes[1].plot(x, y, linestyle='dotted')\n",
        "axes[1].plot(x, z, linestyle=':')\n",
        "\n",
        "axes[2].plot(x, y, linestyle='dashdot', linewidth=5)\n",
        "axes[2].plot(x, z, linestyle='-.', linewidth=0.5)"
      ],
      "metadata": {
        "id": "W_EDrytP_ogL"
      },
      "execution_count": null,
      "outputs": []
    },
    {
      "cell_type": "markdown",
      "source": [
        "## Colors"
      ],
      "metadata": {
        "id": "ZEBUhkta_pb9"
      }
    },
    {
      "cell_type": "markdown",
      "source": [
        "As described in the [colors documentation](https://matplotlib.org/2.0.2/api/colors_api.html), there are some special codes for commonly used colors:\n",
        "\n",
        "*    b: blue\n",
        "*    g: green\n",
        "*    r: red\n",
        "*    c: cyan\n",
        "*    m: magenta\n",
        "*    y: yellow\n",
        "*    k: black\n",
        "*    w: white"
      ],
      "metadata": {
        "id": "T4JWZ5mu_rTR"
      }
    },
    {
      "cell_type": "code",
      "source": [
        "fig, ax = plt.subplots()\n",
        "ax.plot(x, y, color='k')\n",
        "ax.plot(x, z, color='r')"
      ],
      "metadata": {
        "id": "-GfFCF3m_3jJ"
      },
      "execution_count": null,
      "outputs": []
    },
    {
      "cell_type": "markdown",
      "source": [
        "Other ways to specify colors:"
      ],
      "metadata": {
        "id": "qasW7YEB_4v0"
      }
    },
    {
      "cell_type": "code",
      "source": [
        "fig, axes = plt.subplots(figsize=(16, 5), ncols=3)\n",
        "\n",
        "# grayscale\n",
        "axes[0].plot(x, y, color='0.8')\n",
        "axes[0].plot(x, z, color='0.2')\n",
        "\n",
        "# RGB tuple\n",
        "axes[1].plot(x, y, color=(1, 0, 0.7))\n",
        "axes[1].plot(x, z, color=(0, 0.4, 0.3))\n",
        "\n",
        "# HTML hex code\n",
        "axes[2].plot(x, y, color='#00dcba')\n",
        "axes[2].plot(x, z, color='#b029ee')"
      ],
      "metadata": {
        "id": "966RRBfI_6eL"
      },
      "execution_count": null,
      "outputs": []
    },
    {
      "cell_type": "markdown",
      "source": [
        "There is a default color cycle built into `matplotlib`."
      ],
      "metadata": {
        "id": "UdDfh5yU_7ve"
      }
    },
    {
      "cell_type": "code",
      "source": [
        "plt.rcParams['axes.prop_cycle']"
      ],
      "metadata": {
        "id": "VyKx6nqy_-8C"
      },
      "execution_count": null,
      "outputs": []
    },
    {
      "cell_type": "code",
      "source": [
        "fig, ax = plt.subplots(figsize=(12, 10))\n",
        "for factor in np.linspace(0.2, 1, 11):\n",
        "    ax.plot(x, factor*y)"
      ],
      "metadata": {
        "id": "9nhy76weAAM8"
      },
      "execution_count": null,
      "outputs": []
    },
    {
      "cell_type": "markdown",
      "source": [
        "## Markers"
      ],
      "metadata": {
        "id": "7LUUs_H1ACNd"
      }
    },
    {
      "cell_type": "markdown",
      "source": [
        "There are [lots of different markers](https://matplotlib.org/api/markers_api.html) availabile in matplotlib!"
      ],
      "metadata": {
        "id": "yEaFK-dtAF69"
      }
    },
    {
      "cell_type": "code",
      "source": [
        "fig, axes = plt.subplots(figsize=(12, 5), ncols=2)\n",
        "\n",
        "axes[0].plot(x[:20], y[:20], marker='.')\n",
        "axes[0].plot(x[:20], z[:20], marker='o')\n",
        "\n",
        "axes[1].plot(x[:20], z[:20], marker='^',\n",
        "             markersize=10, markerfacecolor='r',\n",
        "             markeredgecolor='k')"
      ],
      "metadata": {
        "id": "8vevSfk6AK_-"
      },
      "execution_count": null,
      "outputs": []
    },
    {
      "cell_type": "markdown",
      "source": [
        "<a name=\"Label\"></a>\n",
        "## Label, Ticks, and Gridlines"
      ],
      "metadata": {
        "id": "Gu8b0SSBAL7p"
      }
    },
    {
      "cell_type": "code",
      "source": [
        "fig, ax = plt.subplots(figsize=(12, 7))\n",
        "ax.plot(x, y)\n",
        "\n",
        "ax.set_xlabel('x')\n",
        "ax.set_ylabel('y')\n",
        "ax.set_title(r'A complicated math function: $f(x) = \\cos(x)$')\n",
        "\n",
        "ax.set_xticks(np.pi * np.array([-1, 0, 1]))\n",
        "ax.set_xticklabels([r'$-\\pi$', '0', r'$\\pi$'])\n",
        "ax.set_yticks([-1, 0, 1])\n",
        "\n",
        "ax.set_yticks(np.arange(-1, 1.1, 0.2), minor=True)\n",
        "#ax.set_xticks(np.arange(-3, 3.1, 0.2), minor=True)\n",
        "\n",
        "ax.grid(which='minor', linestyle='--')\n",
        "ax.grid(which='major', linewidth=2)"
      ],
      "metadata": {
        "id": "3YalDcBfAP8R"
      },
      "execution_count": null,
      "outputs": []
    },
    {
      "cell_type": "markdown",
      "source": [
        "## Axis Limits"
      ],
      "metadata": {
        "id": "QUKcs_nUAR9c"
      }
    },
    {
      "cell_type": "code",
      "source": [
        "fig, ax = plt.subplots()\n",
        "ax.plot(x, y, x, z)\n",
        "ax.set_xlim(-5, 5)\n",
        "ax.set_ylim(-3, 3)"
      ],
      "metadata": {
        "id": "Kxv-xAm_AVGD"
      },
      "execution_count": null,
      "outputs": []
    },
    {
      "cell_type": "markdown",
      "source": [
        "## Text Annotations"
      ],
      "metadata": {
        "id": "2oy4v4HtAWTR"
      }
    },
    {
      "cell_type": "code",
      "source": [
        "fig, ax = plt.subplots()\n",
        "ax.plot(x, y)\n",
        "ax.text(-3, 0.3, 'hello world')\n",
        "ax.annotate('the maximum', xy=(0, 1),\n",
        "             xytext=(0, 0), arrowprops={'facecolor': 'k'})"
      ],
      "metadata": {
        "id": "D4qoUPY9AYf7"
      },
      "execution_count": null,
      "outputs": []
    },
    {
      "cell_type": "markdown",
      "source": [
        "# Other 1D Plots"
      ],
      "metadata": {
        "id": "y04tA87HAZn8"
      }
    },
    {
      "cell_type": "markdown",
      "source": [
        "<a name=\"Scatter\"></a>\n",
        "## Scatter Plots"
      ],
      "metadata": {
        "id": "56WRzE95AwdP"
      }
    },
    {
      "cell_type": "code",
      "source": [
        "fig, ax = plt.subplots()\n",
        "\n",
        "splot = ax.scatter(y, z, c=x, s=(100*z**2 + 5))\n",
        "fig.colorbar(splot)"
      ],
      "metadata": {
        "id": "qR4mwhA4AzdE"
      },
      "execution_count": null,
      "outputs": []
    },
    {
      "cell_type": "markdown",
      "source": [
        "## Bar Plots"
      ],
      "metadata": {
        "id": "r2RnDKRjA0oM"
      }
    },
    {
      "cell_type": "code",
      "source": [
        "labels = ['first', 'second', 'third']\n",
        "values = [10, 5, 30]\n",
        "\n",
        "fig, axes = plt.subplots(figsize=(10, 5), ncols=2)\n",
        "axes[0].bar(labels, values)\n",
        "axes[1].barh(labels, values)"
      ],
      "metadata": {
        "id": "h9LDmYZfA3Qc"
      },
      "execution_count": null,
      "outputs": []
    },
    {
      "cell_type": "markdown",
      "source": [
        "<a name=\"2D_Plotting_Methods\"></a>\n",
        "# 2D Plotting Methods"
      ],
      "metadata": {
        "id": "ur1YQD5VA4H9"
      }
    },
    {
      "cell_type": "markdown",
      "source": [
        "## imshow"
      ],
      "metadata": {
        "id": "ox4xIsiLA7p6"
      }
    },
    {
      "cell_type": "code",
      "source": [
        "x1d = np.linspace(-2*np.pi, 2*np.pi, 100)\n",
        "y1d = np.linspace(-np.pi, np.pi, 50)\n",
        "xx, yy = np.meshgrid(x1d, y1d)\n",
        "f = np.cos(xx) * np.sin(yy)\n",
        "print(f.shape)"
      ],
      "metadata": {
        "id": "CUY_fELrA-RF"
      },
      "execution_count": null,
      "outputs": []
    },
    {
      "cell_type": "code",
      "source": [
        "fig, ax = plt.subplots(figsize=(12,4), ncols=2)\n",
        "ax[0].imshow(f)\n",
        "ax[1].imshow(f, origin='bottom')"
      ],
      "metadata": {
        "id": "cxjeEsW5A_NT"
      },
      "execution_count": null,
      "outputs": []
    },
    {
      "cell_type": "markdown",
      "source": [
        "## pcolormesh"
      ],
      "metadata": {
        "id": "uisDKtrZBADd"
      }
    },
    {
      "cell_type": "code",
      "source": [
        "fig, ax = plt.subplots(ncols=2, figsize=(12, 5))\n",
        "pc0 = ax[0].pcolormesh(x1d, y1d, f)\n",
        "pc1 = ax[1].pcolormesh(xx, yy, f)\n",
        "fig.colorbar(pc0, ax=ax[0])\n",
        "fig.colorbar(pc1, ax=ax[1])"
      ],
      "metadata": {
        "id": "Q3acj9ykBB2G"
      },
      "execution_count": null,
      "outputs": []
    },
    {
      "cell_type": "code",
      "source": [
        "x_sm, y_sm, f_sm = xx[:10, :10], yy[:10, :10], f[:10, :10]\n",
        "\n",
        "fig, ax = plt.subplots(figsize=(12,5), ncols=2)\n",
        "\n",
        "# last row and column ignored!\n",
        "ax[0].pcolormesh(x_sm, y_sm, f_sm, edgecolors='k')\n",
        "\n",
        "# same!\n",
        "ax[1].pcolormesh(x_sm, y_sm, f_sm[:-1, :-1], edgecolors='k')"
      ],
      "metadata": {
        "id": "yDmdL1HmBCrW"
      },
      "execution_count": null,
      "outputs": []
    },
    {
      "cell_type": "code",
      "source": [
        "y_distorted = y_sm*(1 + 0.1*np.cos(6*x_sm))\n",
        "\n",
        "plt.figure(figsize=(12,6))\n",
        "plt.pcolormesh(x_sm, y_distorted, f_sm[:-1, :-1], edgecolors='w')\n",
        "plt.scatter(x_sm, y_distorted, c='k')"
      ],
      "metadata": {
        "id": "38uQxGTGBEDr"
      },
      "execution_count": null,
      "outputs": []
    },
    {
      "cell_type": "markdown",
      "source": [
        "## contour / contourf"
      ],
      "metadata": {
        "id": "rPLB3M77BFvc"
      }
    },
    {
      "cell_type": "code",
      "source": [
        "fig, ax = plt.subplots(figsize=(12, 5), ncols=2)\n",
        "\n",
        "# same thing!\n",
        "ax[0].contour(x1d, y1d, f)\n",
        "ax[1].contour(xx, yy, f)"
      ],
      "metadata": {
        "id": "u_eX3-2zBIEE"
      },
      "execution_count": null,
      "outputs": []
    },
    {
      "cell_type": "code",
      "source": [
        "fig, ax = plt.subplots(figsize=(12, 5), ncols=2)\n",
        "\n",
        "c0 = ax[0].contour(xx, yy, f, 5)\n",
        "c1 = ax[1].contour(xx, yy, f, 20)\n",
        "\n",
        "plt.clabel(c0, fmt='%2.1f')\n",
        "plt.colorbar(c1, ax=ax[1])"
      ],
      "metadata": {
        "id": "qUm_uagPBI7z"
      },
      "execution_count": null,
      "outputs": []
    },
    {
      "cell_type": "code",
      "source": [
        "fig, ax = plt.subplots(figsize=(12, 5), ncols=2)\n",
        "\n",
        "clevels = np.arange(-1, 1, 0.2) + 0.1\n",
        "\n",
        "cf0 = ax[0].contourf(xx, yy, f, clevels, cmap='RdBu_r', extend='both')\n",
        "cf1 = ax[1].contourf(xx, yy, f, clevels, cmap='inferno', extend='both')\n",
        "\n",
        "fig.colorbar(cf0, ax=ax[0])\n",
        "fig.colorbar(cf1, ax=ax[1])"
      ],
      "metadata": {
        "id": "eUYBcym8BKCu"
      },
      "execution_count": null,
      "outputs": []
    },
    {
      "cell_type": "markdown",
      "source": [
        "## quiver"
      ],
      "metadata": {
        "id": "KiuZLXdBBMMN"
      }
    },
    {
      "cell_type": "code",
      "source": [
        "u = -np.cos(xx) * np.cos(yy)\n",
        "v = -np.sin(xx) * np.sin(yy)\n",
        "\n",
        "fig, ax = plt.subplots(figsize=(12, 7))\n",
        "ax.contour(xx, yy, f, clevels, cmap='RdBu_r', extend='both', zorder=0)\n",
        "ax.quiver(xx[::4, ::4], yy[::4, ::4],\n",
        "           u[::4, ::4], v[::4, ::4], zorder=1)"
      ],
      "metadata": {
        "id": "RVGMm1GdBOU1"
      },
      "execution_count": null,
      "outputs": []
    },
    {
      "cell_type": "markdown",
      "source": [
        "## streamplot"
      ],
      "metadata": {
        "id": "b9xRxEzmBPKI"
      }
    },
    {
      "cell_type": "code",
      "source": [
        "fig, ax = plt.subplots(figsize=(12, 7))\n",
        "ax.streamplot(xx, yy, u, v, density=2, color=(u**2 + v**2))"
      ],
      "metadata": {
        "id": "GlISHCn4BRK9"
      },
      "execution_count": null,
      "outputs": []
    },
    {
      "cell_type": "markdown",
      "source": [
        "# Exercise 3: Replicating Plots using `Matplotlib` and `Numpy`"
      ],
      "metadata": {
        "id": "o-LWq1Y0BSXW"
      }
    },
    {
      "cell_type": "markdown",
      "source": [
        "The goal here is to replicate the figures you see as closely as possible.\n",
        "\n",
        "In order to get some data, you will have to run the code in the cells below. There is no need to focus on how this code exactly works. In the end, it will give you some `numpy` arrays, which you will use in your plots. \n",
        "\n",
        "This exercise should be done using **only `numpy` and `matplotlib`**."
      ],
      "metadata": {
        "id": "kPC-dg8DCKwk"
      }
    },
    {
      "cell_type": "markdown",
      "source": [
        "## Part I: Line and Contour Plots to Visualize Global Temperature Data"
      ],
      "metadata": {
        "id": "34DjCPjyCmoC"
      }
    },
    {
      "cell_type": "markdown",
      "source": [
        "The temperature data are from the [NCEP/NCAR atmospheric reanalysis 1](https://psl.noaa.gov/data/gridded/data.ncep.reanalysis.html)."
      ],
      "metadata": {
        "id": "0YZuK8p5Cym5"
      }
    },
    {
      "cell_type": "code",
      "source": [
        "# We'll need to load the data from the UNIL sharepoint using pooch, so let's\n",
        "# import the library\n",
        "import pooch\n",
        "\n",
        "# In order to keep our code concise and readable, we'll use a variable that \n",
        "# stores the common part of the URL where the data is hosted. Then, we'll store\n",
        "# the full URL for each file in its own variable\n",
        "base_url = 'https://unils-my.sharepoint.com/:u:/g/personal/tom_beucler_unil_ch/'\n",
        "lon_url =  f'{base_url}EQtSkmHdXlZAuZcDljeHXuMBIVGfXP4lkR56RX6vuCDh1Q?download=1'\n",
        "lat_url =  f'{base_url}EbMAwn26etZPjxw4F3akRt8BmPef3PMQPn751e6tF0Xi-Q?download=1'\n",
        "temp_url = f'{base_url}EfUOMGrJNtVMgJUtfP9137sB9d64M_osBRPa0iQRSCHKGg?download=1'\n",
        "\n",
        "# Let's go ahead and cache each file\n",
        "lon_filename  = pooch.retrieve(lon_url, \n",
        "                               known_hash='eaf54b88dd89279d3034da17fe8470dc2c841bf9fa89b2aa741dacff9c326cdb'\n",
        "                               )\n",
        "\n",
        "lat_filename  = pooch.retrieve(lat_url, \n",
        "                               known_hash='af1f438080460e1fca4583b2ec19b44285a3d3776e4d21b8da9b6e162906c88a'\n",
        "                               )\n",
        "temp_filename = pooch.retrieve(temp_url, \n",
        "                               known_hash='e040ca257334708b43e86398e09a5669fcf051179ecf5dcd278f758d67beed20'\n",
        "                               )\n",
        "\n",
        "# And then load each file into a numpy array. You can now use these variables\n",
        "# to continue with the exercise :)\n",
        "lon = np.load(lon_filename)\n",
        "lat = np.load(lat_filename)\n",
        "temp = np.load(temp_filename)"
      ],
      "metadata": {
        "id": "THKRl0VmDGVp"
      },
      "execution_count": null,
      "outputs": []
    },
    {
      "cell_type": "markdown",
      "source": [
        "Below is the figure to replicate using the `numpy` variables `temp`, `lon`, and `lat`.\n",
        "\n",
        "Hint 1: Zonal-mean is synonymous with longitudinal-mean, i.e. the mean must be taken along the `axis` corresponding to `lon`.\n",
        "\n",
        "Hint 2: To create subplots of different sizes, consider reading the [`plt.subplots` documentation](https://matplotlib.org/stable/api/_as_gen/matplotlib.pyplot.subplots.html).\n",
        "\n",
        "Hint 3: For the left subplot, check out the [2D Plotting Methods section](#2D_Plotting_Methods).\n",
        "\n",
        "Hint 4: For the right subplot, check out the [Label, Ticks, and Gridlines subsection](#Label).\n",
        "\n",
        "Hint 5: Don't spend too too much time making your figure perfect as there is still a lot of ground to cover in the next notebooks 😀"
      ],
      "metadata": {
        "id": "vtBshp-tDJRs"
      }
    },
    {
      "cell_type": "markdown",
      "source": [
        "<img src='https://unils-my.sharepoint.com/:i:/g/personal/tom_beucler_unil_ch/EbFKuCFpzCpLihtQWvbdwmIBCTvkggFD8lQzfQ7kmCeliw?download=1'>"
      ],
      "metadata": {
        "id": "W81SS2qqDbdr"
      }
    },
    {
      "cell_type": "code",
      "source": [
        "# Replicate the figure here"
      ],
      "metadata": {
        "id": "dEiphYOMEynZ"
      },
      "execution_count": null,
      "outputs": []
    },
    {
      "cell_type": "markdown",
      "source": [
        "## Part II: Scatter Plots to Visualize Earthquake Data"
      ],
      "metadata": {
        "id": "2u-sbsi0GCCK"
      }
    },
    {
      "cell_type": "markdown",
      "source": [
        "Here, we will make a map plot of earthquakes from a USGS catalog of historic large earthquakes. Color the earthquakes by `log10(depth)` and adjust the marker size to be `magnitude/100`"
      ],
      "metadata": {
        "id": "nmL63cNfGS5W"
      }
    },
    {
      "cell_type": "code",
      "source": [
        "import pooch"
      ],
      "metadata": {
        "id": "KuXf7A5SHTGu"
      },
      "execution_count": null,
      "outputs": []
    },
    {
      "cell_type": "code",
      "source": [
        "fname = pooch.retrieve(\n",
        "    \"https://unils-my.sharepoint.com/:u:/g/personal/tom_beucler_unil_ch/EW1bnM3elHpAtjb1KtiEw0wB9Pl5w_FwrCvVRlnilXHCtg?download=1\",\n",
        "    known_hash='22b9f7045bf90fb99e14b95b24c81da3c52a0b4c79acf95d72fbe3a257001dbb',\n",
        "    processor=pooch.Unzip()\n",
        ")[0]\n",
        "\n",
        "earthquakes = np.genfromtxt(fname, delimiter='\\t')\n",
        "depth = earthquakes[:, 8]\n",
        "magnitude = earthquakes[:, 9]\n",
        "latitude = earthquakes[:, 20]\n",
        "longitude = earthquakes[:, 21]"
      ],
      "metadata": {
        "id": "4PHXcNPMHH2a"
      },
      "execution_count": null,
      "outputs": []
    },
    {
      "cell_type": "markdown",
      "source": [
        "Below is the figure to replicate using the `numpy` variables `earthquake`, `depth`, `magnitude`, `latitude`, and `longitude`.\n",
        "\n",
        "Hint: Check out the [Scatter Plots subsection](#Scatter) and consider reading the documentation for [`plt.scatter`](https://matplotlib.org/stable/api/_as_gen/matplotlib.pyplot.scatter.html) and [`plt.colorbar`](https://matplotlib.org/stable/api/_as_gen/matplotlib.pyplot.colorbar.html). "
      ],
      "metadata": {
        "id": "YQbZehAqHhBN"
      }
    },
    {
      "cell_type": "markdown",
      "source": [
        "![fig3.png](data:image/png;base64,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)"
      ],
      "metadata": {
        "id": "bDexm4G8HQOc"
      }
    },
    {
      "cell_type": "code",
      "source": [
        "# Replicate the figure here"
      ],
      "metadata": {
        "id": "fqC00eTYIM0i"
      },
      "execution_count": null,
      "outputs": []
    }
  ]
}